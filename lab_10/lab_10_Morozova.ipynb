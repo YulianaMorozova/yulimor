{
 "cells": [
  {
   "cell_type": "markdown",
   "id": "0f47833b-b854-4f88-9f36-9c88dacad722",
   "metadata": {},
   "source": [
    "# Лабораторна робота № 10\n"
   ]
  },
  {
   "cell_type": "markdown",
   "id": "7acee089-5037-40b7-a1ac-c2cb570bcbe4",
   "metadata": {},
   "source": [
    "Тема. Стиснення даних. Жадібна стратегія на прикладі кодування\n",
    "Гафмена\n"
   ]
  },
  {
   "cell_type": "markdown",
   "id": "9fe2e4dc-0e07-43e4-8fc7-586cfc3763bd",
   "metadata": {},
   "source": [
    "Мета: навчитись реалізовувати алгоритм побудови дерева оптимальних\n",
    "кодів Гафмена на основі черги з пріоритетом (за допомогою купи) засобами\n",
    "Python."
   ]
  },
  {
   "cell_type": "markdown",
   "id": "50ffc443-74fd-48be-9a05-914fc285c67a",
   "metadata": {},
   "source": [
    "### Завдання 1\n"
   ]
  },
  {
   "cell_type": "markdown",
   "id": "b3bc2b5b-5707-4cba-ae53-a47234855341",
   "metadata": {},
   "source": [
    "− Побудувати дерево кодів Гафмена"
   ]
  },
  {
   "cell_type": "code",
   "execution_count": 2,
   "id": "fabcd79e-d4e6-4f09-bd6f-df3b4754c01d",
   "metadata": {},
   "outputs": [
    {
     "name": "stdout",
     "output_type": "stream",
     "text": [
      "Дерево кодів Гаффмана:\n",
      "A: 10\n",
      "B: 11\n",
      "C: 0\n"
     ]
    }
   ],
   "source": [
    "import heapq\n",
    "from collections import Counter, namedtuple\n",
    "\n",
    "# Структура для представлення вузлів дерева\n",
    "class Node(namedtuple(\"Node\", [\"left\", \"right\"])):\n",
    "    def walk(self, code, acc):\n",
    "        self.left.walk(code, acc + \"0\")\n",
    "        self.right.walk(code, acc + \"1\")\n",
    "\n",
    "# Структура для представлення листків дерева\n",
    "class Leaf(namedtuple(\"Leaf\", [\"char\"])):\n",
    "    def walk(self, code, acc):\n",
    "        code[self.char] = acc or \"0\"\n",
    "\n",
    "# Функція для побудови дерева кодів Гаффмана\n",
    "def huffman_encode(s):\n",
    "    h = []\n",
    "    for ch, freq in Counter(s).items():\n",
    "        h.append((freq, len(h), Leaf(ch)))\n",
    "    heapq.heapify(h)\n",
    "    count = len(h)\n",
    "    while len(h) > 1:\n",
    "        freq1, _count1, left = heapq.heappop(h)\n",
    "        freq2, _count2, right = heapq.heappop(h)\n",
    "        heapq.heappush(h, (freq1 + freq2, count, Node(left, right)))\n",
    "        count += 1\n",
    "    code = {}\n",
    "    if h:\n",
    "        [(_freq, _count, root)] = h\n",
    "        root.walk(code, \"\")\n",
    "    return code\n",
    "\n",
    "# Вхідна послідовність\n",
    "s = \"AAAAAAAAABBBBBBBBBBBCCCCCCCCCCCCC\"\n",
    "\n",
    "# Побудова дерева кодів Гаффмана\n",
    "huffman_code = huffman_encode(s)\n",
    "\n",
    "# Виведення кодів для кожного символу\n",
    "print(\"Дерево кодів Гаффмана:\")\n",
    "for char, code in sorted(huffman_code.items()):\n",
    "    print(f\"{char}: {code}\")\n"
   ]
  },
  {
   "cell_type": "markdown",
   "id": "32b1fc81-c078-408f-8232-fc01e1d1429b",
   "metadata": {},
   "source": [
    "− Перевірити результат за допомогою коду, наведеному вище."
   ]
  },
  {
   "cell_type": "code",
   "execution_count": 8,
   "id": "fb3366c3-1fc5-4316-aadc-246703c77472",
   "metadata": {},
   "outputs": [
    {
     "name": "stdout",
     "output_type": "stream",
     "text": [
      "C -> 0\n",
      "A -> 10\n",
      "B -> 11\n"
     ]
    }
   ],
   "source": [
    "import heapq\n",
    "from collections import Counter\n",
    "\n",
    "class Node:\n",
    "    def __init__(self, freq, symbol, left=None, right=None):\n",
    "        self.freq = freq\n",
    "        self.symbol = symbol\n",
    "        self.left = left\n",
    "        self.right = right\n",
    "        self.huff = ''\n",
    "\n",
    "    def __lt__(self, nxt):\n",
    "        return self.freq < nxt.freq\n",
    "\n",
    "def printNodes(node, val=''):\n",
    "    newVal = val + str(node.huff)\n",
    "    if node.left:\n",
    "        printNodes(node.left, newVal)\n",
    "    if node.right:\n",
    "        printNodes(node.right, newVal)\n",
    "    if not node.left and not node.right:\n",
    "        print(f\"{node.symbol} -> {newVal}\")\n",
    "\n",
    "def huffman_encoding(message):\n",
    "    freq_dict = Counter(message)\n",
    "    chars = list(freq_dict.keys())\n",
    "    freq = list(freq_dict.values())\n",
    "\n",
    "    nodes = []\n",
    "\n",
    "    for x in range(len(chars)):\n",
    "        heapq.heappush(nodes, Node(freq[x], chars[x]))\n",
    "\n",
    "    while len(nodes) > 1:\n",
    "        left = heapq.heappop(nodes)\n",
    "        right = heapq.heappop(nodes)\n",
    "        left.huff = 0\n",
    "        right.huff = 1\n",
    "\n",
    "        newNode = Node(left.freq + right.freq, left.symbol + right.symbol, left, right)\n",
    "        heapq.heappush(nodes, newNode)\n",
    "\n",
    "    printNodes(nodes[0])\n",
    "\n",
    "message = \"AAAAAAAAABBBBBBBBBBBCCCCCCCCCCCCC\"\n",
    "huffman_encoding(message)"
   ]
  },
  {
   "cell_type": "markdown",
   "id": "db228870-44fd-4a49-a598-2aec8cbfa034",
   "metadata": {},
   "source": [
    "− Опрацювати самостійно тему декодування Гафмена [40] і\n",
    "скориставшись наведеним там кодом, декодувати повідомлення, задане\n",
    "варіантом(16)"
   ]
  },
  {
   "cell_type": "code",
   "execution_count": 10,
   "id": "50dd35e1-07fe-4f25-b5f0-51f5d479411b",
   "metadata": {},
   "outputs": [
    {
     "name": "stdout",
     "output_type": "stream",
     "text": [
      "Encoded Huffman Data:\n",
      "10101010101010101011111111111111111111110000000000000\n",
      "\n",
      "Decoded Huffman Data:\n",
      "AAAAAAAAABBBBBBBBBBBCCCCCCCCCCCCC\u0000\n"
     ]
    }
   ],
   "source": [
    "import heapq\n",
    "from collections import defaultdict\n",
    "\n",
    "codes = {}\n",
    "freq = defaultdict(int)\n",
    "\n",
    "class MinHeapNode:\n",
    "    def __init__(self, data, freq):\n",
    "        self.left = None\n",
    "        self.right = None\n",
    "        self.data = data\n",
    "        self.freq = freq\n",
    "\n",
    "    def __lt__(self, other):\n",
    "        return self.freq < other.freq\n",
    "\n",
    "def store_codes(root, str):\n",
    "    if root is None:\n",
    "        return\n",
    "    if root.data != '$':\n",
    "        codes[root.data] = str\n",
    "    store_codes(root.left, str + \"0\")\n",
    "    store_codes(root.right, str + \"1\")\n",
    "def huffman_codes(size):\n",
    "    global minHeap\n",
    "    for key in freq:\n",
    "        minHeap.append(MinHeapNode(key, freq[key]))\n",
    "    heapq.heapify(minHeap)\n",
    "    while len(minHeap) != 1:\n",
    "        left = heapq.heappop(minHeap)\n",
    "        right = heapq.heappop(minHeap)\n",
    "        top = MinHeapNode('$', left.freq + right.freq)\n",
    "        top.left = left\n",
    "        top.right = right\n",
    "        heapq.heappush(minHeap, top)\n",
    "    store_codes(minHeap[0], \"\")\n",
    "\n",
    "def calc_freq(str, n):\n",
    "    for i in range(n):\n",
    "        freq[str[i]] += 1\n",
    "\n",
    "def decode_file(root, s):\n",
    "    ans = \"\"\n",
    "    curr = root\n",
    "    n = len(s)\n",
    "    for i in range(n):\n",
    "        if s[i] == '0':\n",
    "            curr = curr.left\n",
    "        else:\n",
    "            curr = curr.right\n",
    "        if curr.left is None and curr.right is None:\n",
    "            ans += curr.data\n",
    "            curr = root\n",
    "    return ans + '\\0'\n",
    "\n",
    "if __name__ == \"__main__\":\n",
    "    minHeap = []\n",
    "    text = \"AAAAAAAAABBBBBBBBBBBCCCCCCCCCCCCC\"\n",
    "    encoded_string, decoded_string = \"\", \"\"\n",
    "    calc_freq(text, len(text))\n",
    "    huffman_codes(len(text))\n",
    "\n",
    "    for char in text:\n",
    "        encoded_string += codes[char]\n",
    "\n",
    "    print(\"Encoded Huffman Data:\")\n",
    "    print(encoded_string)\n",
    "\n",
    "    decoded_string = decode_file(minHeap[0], encoded_string)\n",
    "    print(\"\\nDecoded Huffman Data:\")\n",
    "    print(decoded_string)"
   ]
  },
  {
   "cell_type": "markdown",
   "id": "7f1609b8-cc25-4cd8-908a-103e7fb4f80c",
   "metadata": {},
   "source": [
    "## Контрольні питання"
   ]
  },
  {
   "cell_type": "markdown",
   "id": "48a887d6-9a9b-4ed8-a4a2-affb3ae0bf67",
   "metadata": {},
   "source": [
    "1. Що таке жадібні алгоритми?\n",
    "    Це алгоритми, що обирають найбільш перспективний варіант на кожному кроці, не роблячи повного аналізу всіх можливих варіантів.\n",
    "2. Що таке префіксний код? Який код використовується у коді Гафмена?\n",
    "    Префіксний код - код, де жоден код одного символу не є початковим кодом для іншого символу.\n",
    "3. Як пов’язана структура даних «купа» зі структурою даних «черга з\n",
    "пріоритетами»?\n",
    "    Купа - це структура даних, що використовується для реалізації черги з пріоритетами. Вона дозволяє швидше отримати найвищий пріоритетний елемент.\n",
    "4. Що таке стиснення даних і для чого воно використовується? Які його\n",
    "основні переваги?\n",
    "    Це процес скорочення обсягу даних для зменшення використання ресурсів, таких як місце на диску чи пропускна здатність мережі.\n",
    "5. Які кроки необхідно виконати для стиснення даних за допомогою\n",
    "алгоритму кодування Гафмена?\n",
    "    Обчислити частоту кожного символу.\n",
    "Побудувати дерево кодів Гафмена на основі цих частот.\n",
    "Виконати кодування, замінюючи кожен символ його відповідним кодом з дерева Гафмена.\n",
    "6. Які основні обмеження та недоліки алгоритму кодування Гафмена? Чи\n",
    "можливо покращити його продуктивність?\n",
    "    Неефективний для невеликих обсягів даних або даних з нерівномірною частотою входження символів. \n",
    "7. Які існують альтернативні методи стиснення даних, що можуть\n",
    "конкурувати з алгоритмом Гафмена?\n",
    "    арифметичне кодування та інші.\n",
    "8. Які практичні застосування можуть мати алгоритми стиснення даних,\n",
    "зокрема алгоритм Гафмена, у сучасних інформаційних системах?\n",
    "    Використовується для зменшення обсягу зберіганих або передаваних даних, таких як зображення, аудіо або відео файли"
   ]
  },
  {
   "cell_type": "code",
   "execution_count": null,
   "id": "0a172911-2a58-4c39-a979-be7dc46f131b",
   "metadata": {},
   "outputs": [],
   "source": []
  }
 ],
 "metadata": {
  "kernelspec": {
   "display_name": "Python 3 (ipykernel)",
   "language": "python",
   "name": "python3"
  },
  "language_info": {
   "codemirror_mode": {
    "name": "ipython",
    "version": 3
   },
   "file_extension": ".py",
   "mimetype": "text/x-python",
   "name": "python",
   "nbconvert_exporter": "python",
   "pygments_lexer": "ipython3",
   "version": "3.11.7"
  }
 },
 "nbformat": 4,
 "nbformat_minor": 5
}

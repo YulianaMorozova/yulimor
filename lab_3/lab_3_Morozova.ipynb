{
 "cells": [
  {
   "cell_type": "markdown",
   "id": "2a273d35-49f7-43ca-99f6-c8b3ec1fe647",
   "metadata": {},
   "source": [
    "# Лабораторна робота No 3"
   ]
  },
  {
   "cell_type": "markdown",
   "id": "eec11572-10ce-4d21-a43f-f2155f62b237",
   "metadata": {},
   "source": [
    "\n",
    "Мета: засвоїти аналіз складності алгоритмів як технологію на приклад \r\n",
    "алгоритмів сортування методами включення та обміну."
   ]
  },
  {
   "cell_type": "markdown",
   "id": "a6f7bb45-d11b-4600-9ed8-df760179eb0f",
   "metadata": {},
   "source": [
    "САМОСТІЙНА РОБОТА"
   ]
  },
  {
   "cell_type": "markdown",
   "id": "2a339f60-0a7e-4903-9ed6-b26b1faef140",
   "metadata": {},
   "source": [
    "Реалізувати на Python алгоритм сортування методом бульбашки."
   ]
  },
  {
   "cell_type": "code",
   "execution_count": 2,
   "id": "12388a3b-1bc0-4802-b67b-83a5904a6c60",
   "metadata": {},
   "outputs": [
    {
     "name": "stdout",
     "output_type": "stream",
     "text": [
      "[2, 4, 6, 8, 10]\n"
     ]
    }
   ],
   "source": [
    "def Bubble_Sort(nums):\n",
    " swap = True\n",
    " while swap:\n",
    "     swap = False\n",
    "     b = 0\n",
    "     for i in range(len(a) - b - 1):\n",
    "         if a[i] > a[i+1]:\n",
    "             swap = True\n",
    "             a[i], a[i+1] = a[i+1], a[i]\n",
    "             b = b + 1\n",
    "\n",
    "def nums_sort(nums):\n",
    "    for j in range(1, len(nums)):\n",
    "        key = nums[j]\n",
    "        i = j - 1\n",
    "        while i >= 0 and nums[i] > key:\n",
    "            nums[i + 1] = nums[i]\n",
    "            i -= 1\n",
    "        nums[i + 1] = key\n",
    "\n",
    "a = [8, 10, 6, 2, 4]\n",
    "Bubble_Sort(a)\n",
    "print(a)"
   ]
  },
  {
   "cell_type": "markdown",
   "id": "409099d8-4e36-4f68-90cf-152ba4b3ac05",
   "metadata": {},
   "source": [
    "Дослідити реальний час виконання обох алгоритмів на Python і\r\n",
    "побудувати графіки залежностей Tinsert(n) та Tbuble(n) для n =\r\n",
    "[5, 10, 50, 100, 500, 1000, 2000, 3000, 4000, 5000, 10000, 20000, 50000, 10000],\r\n",
    "згенерувавши відповідні цілочисельні масиви."
   ]
  },
  {
   "cell_type": "code",
   "execution_count": null,
   "id": "c6334ff6-dce0-4e98-b35d-4e21ee84520e",
   "metadata": {},
   "outputs": [],
   "source": [
    "import time\n",
    "import random\n",
    "import matplotlib.pyplot as plt\n",
    "%matplotlib inline\n",
    "\n",
    "def bubble(nums):\n",
    "    swapped = True\n",
    "    a = 0\n",
    "    while swapped:\n",
    "        swapped = False\n",
    "        for i in range(len(nums) - a - 1):\n",
    "            a += 1\n",
    "            if nums[i] > nums[i + 1]:\n",
    "                nums[i], nums[i + 1] = nums[i + 1], nums[i]\n",
    "                swapped = True\n",
    "\n",
    "def insertion_sort(nums):\n",
    "    for j in range(1, len(nums)):\n",
    "        key = nums[j]\n",
    "        i = j - 1\n",
    "        while i >= 0 and nums[i] > key:\n",
    "            nums[i + 1] = nums[i]\n",
    "            i -= 1\n",
    "        nums[i + 1] = key\n",
    "\n",
    "n_arrays = [] \n",
    "a_arrays = []  \n",
    "sizes = [5, 10, 50, 100, 500, 1000, 2000, 3000, 4000, 5000]  # Розміри масивів\n",
    "for size in sizes:\n",
    "    n_arrays.append([random.randint(1, 20) for _ in range(size)])\n",
    "    a_arrays.append([random.randint(1, 20) for _ in range(size)])\n",
    "\n",
    "ttome = []  \n",
    "tome = [] \n",
    "for i in range(len(sizes)):\n",
    "    start_time = time.time()\n",
    "    bubble(n_arrays[i])\n",
    "    elapsed_time = time.time() - start_time\n",
    "    print(f\"Час сортування {sizes[i]} елементів бульбашкою: {elapsed_time}\")\n",
    "    ttome.append(elapsed_time)\n",
    "\n",
    "    start_time = time.time()\n",
    "    insertion_sort(a_arrays[i])\n",
    "    elapsed_time = time.time() - start_time\n",
    "    print(f\"Час сортування {sizes[i]} елементів вставкою: {elapsed_time}\")\n",
    "    tome.append(elapsed_time)\n",
    "\n",
    "print(\"Час бульбашкового сортування:\", ttome)\n",
    "print(\"Час сортування вставкою:\", tome)\n",
    "plt.figure(figsize=(10, 5))\n",
    "for i, array in enumerate(n_arrays):\n",
    "    plt.plot(sorted(array), label=f'n_arrays[{i}]')\n",
    "plt.title('Графік для масивів n_arrays')\n",
    "plt.xlabel('Індекс')\n",
    "plt.ylabel('Значення')\n",
    "plt.legend()\n",
    "plt.show()\n",
    "\n",
    "plt.figure(figsize=(10, 5))\n",
    "for i, array in enumerate(a_arrays):\n",
    "    plt.plot(sorted(array), label=f'a_arrays[{i}]')\n",
    "plt.title('Графік для масивів a_arrays')\n",
    "plt.xlabel('Індекс')\n",
    "plt.ylabel('Значення')\n",
    "plt.legend()\n",
    "plt.show()"
   ]
  },
  {
   "cell_type": "markdown",
   "id": "a9d3bfe3-c847-45de-979e-3fe49db8f34c",
   "metadata": {},
   "source": [
    "# Контрольні запитання"
   ]
  },
  {
   "cell_type": "markdown",
   "id": "45bf4791-5e52-48ff-a23e-a0e723227a6b",
   "metadata": {},
   "source": [
    "1. Що таке O-нотація і чим вона відрізняється від Ω -нотації?\n",
    "O-нотація - це верхня межа/ Ω -нотація - нижня\n",
    "2. Яку часову складність має алгоритм сортування методом вставляння за\n",
    "найсприятливіших умов, коли масив відсортовано? Відповідь обґрунтувати.\n",
    "    Алгоритм сортування методом вставки за найсприятливішої умови маж складність O(n)\n",
    ", бо алгоритм все рівно бере кожен елемент та перевіряє з іншими\n",
    "3. Надати визначення ефективного алгоритму.\n",
    "    Ефективний алгоритм - це алгоритм, який працює швидко та ефективно використовує ресурс для вирішення конкретної задачі\n",
    "4. Пояснити поняття головного параметра (розміру) завдання.\n",
    "    Головний параметр (розмір) задачі - це об'єм даних, який визначає складність виконання алгоритму\n",
    "5. Функція часової складності має вигляд: F(N) = N\n",
    "3 + 7N\n",
    "2 − 14N. \n",
    "Як записати асимптотичну складність у O-нотації?\n",
    "асимптотична складність цього алгоритму: O(n^2)"
   ]
  }
 ],
 "metadata": {
  "kernelspec": {
   "display_name": "Python 3 (ipykernel)",
   "language": "python",
   "name": "python3"
  },
  "language_info": {
   "codemirror_mode": {
    "name": "ipython",
    "version": 3
   },
   "file_extension": ".py",
   "mimetype": "text/x-python",
   "name": "python",
   "nbconvert_exporter": "python",
   "pygments_lexer": "ipython3",
   "version": "3.11.7"
  }
 },
 "nbformat": 4,
 "nbformat_minor": 5
}

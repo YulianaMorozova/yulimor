{
 "cells": [
  {
   "cell_type": "markdown",
   "id": "800fdd08-6341-4e33-ba20-10c2748a7081",
   "metadata": {},
   "source": [
    "# Лабораторна робота № 7"
   ]
  },
  {
   "cell_type": "markdown",
   "id": "2d637f9c-e82f-443a-9343-60cacd502962",
   "metadata": {},
   "source": [
    "Тема. Структури даних дерево, купа, геш-таблиця"
   ]
  },
  {
   "cell_type": "markdown",
   "id": "96c1a4eb-1a25-4f1d-a380-1e18ecf6cba7",
   "metadata": {},
   "source": [
    "Мета: засвоїти основні функції та алгоритми роботи з деревами та купою\r\n",
    "засобами Python."
   ]
  },
  {
   "cell_type": "markdown",
   "id": "99845ffc-9500-4da0-9743-8cc47790be4e",
   "metadata": {},
   "source": [
    "## Дерева\r"
   ]
  },
  {
   "cell_type": "markdown",
   "id": "82217d73-8c73-4200-bc15-a1379256ec79",
   "metadata": {},
   "source": [
    "Створити бінарне дерево згідно з варіантом, виданим викладачем.\n"
   ]
  },
  {
   "cell_type": "code",
   "execution_count": 1,
   "id": "1a59b5ff-c21e-467e-a19c-6fec02e9faa2",
   "metadata": {},
   "outputs": [],
   "source": [
    "my_tree = ['1', ['2', ['4', ['8', [], []], ['9', [], []]],['5',['10', [], []], []]],['3',['6', [], []],['7', [], []]]]\n"
   ]
  },
  {
   "cell_type": "markdown",
   "id": "9f7ef632-d3f4-445c-922a-aea60a6fd9e5",
   "metadata": {},
   "source": [
    "Написати процедуру видалення заданої гілки дерева."
   ]
  },
  {
   "cell_type": "code",
   "execution_count": 2,
   "id": "efa68eae-8a9e-476f-a035-bc1a63cda498",
   "metadata": {},
   "outputs": [],
   "source": [
    "def delete_branch(tree, value):\n",
    "    if not tree:\n",
    "        return None\n",
    "    \n",
    "    node, left, right = tree\n",
    "    \n",
    "    if node == value:\n",
    "        return None\n",
    "    \n",
    "    new_left = delete_branch(left, value)\n",
    "    new_right = delete_branch(right, value)\n",
    "    \n",
    "    return [node, new_left, new_right]"
   ]
  },
  {
   "cell_type": "markdown",
   "id": "7d77bbcb-1889-41a7-b5cc-a57368976b2d",
   "metadata": {},
   "source": [
    "Оцінити асимптотичну складність (в середньому і в найгіршому\n",
    "випадку) процедур search, insert і delete роботи з деревом."
   ]
  },
  {
   "cell_type": "markdown",
   "id": "a5055af5-3e48-4e18-9205-a897a3147e91",
   "metadata": {},
   "source": [
    "Search: в середньому - O(logn); в найгіршому - O(n)\n",
    "\n",
    "Insert та Delete будуть мати таку саму асимптотичну складність як і search"
   ]
  },
  {
   "cell_type": "markdown",
   "id": "cb45b69d-55c4-4abc-98b3-6aad98df17b8",
   "metadata": {},
   "source": [
    "## Купа"
   ]
  },
  {
   "cell_type": "markdown",
   "id": "1b9162ab-b18a-4683-971f-bb7da42a0f9a",
   "metadata": {},
   "source": [
    "Написати процедуру генерації купи з будь-якого рандомного масива"
   ]
  },
  {
   "cell_type": "code",
   "execution_count": 10,
   "id": "5b9b76c3-a66a-4c7a-bfd4-2cc1f1914355",
   "metadata": {},
   "outputs": [
    {
     "name": "stdout",
     "output_type": "stream",
     "text": [
      "Heap: [910, 55, 73, 0, 4, 11, 12]\n"
     ]
    }
   ],
   "source": [
    "def heapify(arr, n, i):\n",
    "    largest = i\n",
    "    left = 2 * i + 1\n",
    "    right = 2 * i + 2\n",
    "\n",
    "    if left < n and arr[left] > arr[largest]:\n",
    "        largest = left\n",
    "\n",
    "    if right < n and arr[right] > arr[largest]:\n",
    "        largest = right\n",
    "\n",
    "    if largest != i:\n",
    "        arr[i], arr[largest] = arr[largest], arr[i]\n",
    "        heapify(arr, n, largest)\n",
    "\n",
    "def heap(arr):\n",
    "    n = len(arr)\n",
    "    for i in range(n // 2 - 1, -1, -1):\n",
    "        heapify(arr, n, i)\n",
    "\n",
    "array = [4, 910, 73, 0, 55, 11, 12]\n",
    "heap(array)\n",
    "print(\"Heap:\", array)"
   ]
  },
  {
   "cell_type": "markdown",
   "id": "1b60aa6b-5f94-403a-a5a2-4fc61acff2ff",
   "metadata": {},
   "source": [
    "Додати до нього елемент, який дорівнює вашому порядковому номеру у\n",
    "списку групи"
   ]
  },
  {
   "cell_type": "code",
   "execution_count": 9,
   "id": "7edb1001-e037-4921-a9e7-01138836d61e",
   "metadata": {},
   "outputs": [],
   "source": [
    "def insertElement(heap, element):\n",
    "    heap.append(element)\n",
    "    i = len(heap) - 1\n",
    "    parent = (i - 16) // 2\n",
    "\n",
    "    while i > 0 and heap[i] > heap[parent]:\n",
    "        heap[i], heap[parent] = heap[parent], heap[i]\n",
    "        i = parent\n",
    "        parent = (i - 16) // 2\n"
   ]
  },
  {
   "cell_type": "markdown",
   "id": "eedde9cb-94d8-4f80-a389-4cd2775aa643",
   "metadata": {},
   "source": [
    "Оцінити асимптотичну складність (у середньому і в найгіршому\n",
    "випадку) процедур search, insert і delete роботи з купою."
   ]
  },
  {
   "cell_type": "markdown",
   "id": "1d22c4b4-8f76-4a66-904f-dcf5388266db",
   "metadata": {},
   "source": [
    "і в середньому так і в найгіршому O(n)"
   ]
  },
  {
   "cell_type": "markdown",
   "id": "57b069a6-221f-4a85-8b0b-256f83c83194",
   "metadata": {},
   "source": [
    "## Контрольні питання"
   ]
  },
  {
   "cell_type": "markdown",
   "id": "84995553-bedc-4459-a864-457ada7e587e",
   "metadata": {},
   "source": [
    " Чим відрізняється структура бінарне дерево він бінарного дерева\r\n",
    "пошуку\n",
    "бінарного дерева\n",
    "пошуку - це конкретна форма бінарного дерева, яка має властивості для ефективного пошуку, вставки та видалення елементів. Тоді як інші види бінарних дерев можуть мати різні правила та властивості, що регулюють їх структуру та поведінку.\n",
    "\n",
    "?2. Чим відрізняється структура бінарне дерево від бінарної куп\n",
    " Бінарне дерево може мати нуль, один або два дочірні вузли та немає обмежень на відносність ключів між батьківськими та дочірніми вузлами. Бінарна купа має властивість порядку купи, де значення ключа батьківського вузла завжди більше або рівне значенням ключів його дочірніх вузлів і зазвичай використовується для пріоритетних черг та сортування.\n",
    "\n",
    " и\n",
    "3. Які існують типи дерев? Опишіть їхні основні характеристики та\r\n",
    "перев\n",
    "Бінарне дерево: Має не більше двох дочірніх вузлів у кожного вузла.\n",
    "Дерево пошуку: Кожен вузол має ключ, де значення ключа більше за ключі в лівому піддереві та менше за ключі в правому.\n",
    "Бінарна купа: Кожен вузол має ключ, де значення ключа батьківського вузла завжди більше або рівне значенням ключів дочірніх вузлів.а.\r\n",
    "4. Наведіть приклади задач, які ефективно вирішуються за допомогою\r\n",
    "дев.\r\n",
    "5. Як організована купа? Опишіть алгоритми додавання та вилучення\r\n",
    "елементів\n",
    "Купа - це спеціальний вид бінарного дерева, де значення кожного батьківського вузла більше або рівне значенням його дочірніх вузлів.\n",
    "\n",
    "Алгоритм додавання: Додаємо елемент в кінець купи і піднімаємо його вгору, доки не відновимо порядок купи.\n",
    "\n",
    "Алгоритм вилучення максимального (або мінімального) елемента: Вилучаємо корінь купи, замінюємо його останнім елементом і понижуємо його вниз, доки не відновимо порядок купи. купи.\r\n",
    "6. Які задачі можна ефективно вирішити за допомогою купи? Наведіть\r\n",
    "Знаходження максимального (або мінімального) елемента: Купа дозволяє швидко знаходити найбільший або найменший елемент у наборі даних. Наприклад, в пріоритетних чергах максимальний (або мінімальний) пріоритет визначається за допомогою купи.\n",
    "иклади.\r\n",
    "7. Як геш-функція використовується для зберігання та пошуку даних в\r\n",
    "хеш-таблиці?"
   ]
  },
  {
   "cell_type": "code",
   "execution_count": null,
   "id": "7675c81b-7b1c-4fa6-ba47-9b2422eb8802",
   "metadata": {},
   "outputs": [],
   "source": []
  }
 ],
 "metadata": {
  "kernelspec": {
   "display_name": "Python 3 (ipykernel)",
   "language": "python",
   "name": "python3"
  },
  "language_info": {
   "codemirror_mode": {
    "name": "ipython",
    "version": 3
   },
   "file_extension": ".py",
   "mimetype": "text/x-python",
   "name": "python",
   "nbconvert_exporter": "python",
   "pygments_lexer": "ipython3",
   "version": "3.11.7"
  }
 },
 "nbformat": 4,
 "nbformat_minor": 5
}
